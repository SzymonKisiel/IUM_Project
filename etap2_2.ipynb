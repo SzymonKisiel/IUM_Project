{
 "cells": [
  {
   "cell_type": "markdown",
   "metadata": {},
   "source": [
    "<h1>Przekład użycia predykcji</h1>"
   ]
  },
  {
   "cell_type": "code",
   "execution_count": 1,
   "metadata": {},
   "outputs": [
    {
     "name": "stderr",
     "output_type": "stream",
     "text": [
      "c:\\Users\\Huawei\\Desktop\\Python\\ium_project\\.venv\\lib\\site-packages\\numpy\\_distributor_init.py:30: UserWarning: loaded more than 1 DLL from .libs:\n",
      "c:\\Users\\Huawei\\Desktop\\Python\\ium_project\\.venv\\lib\\site-packages\\numpy\\.libs\\libopenblas.EL2C6PLE4ZYW3ECEVIV3OXXGRN2NRFM2.gfortran-win_amd64.dll\n",
      "c:\\Users\\Huawei\\Desktop\\Python\\ium_project\\.venv\\lib\\site-packages\\numpy\\.libs\\libopenblas.WCDJNK7YVMPZQ2ME2ZZHJJRJ3JIKNDB7.gfortran-win_amd64.dll\n",
      "  warnings.warn(\"loaded more than 1 DLL from .libs:\"\n"
     ]
    }
   ],
   "source": [
    "from ium_recommendations.models.model import *\n",
    "from ium_recommendations.features.build_features import *\n",
    "from random import *\n",
    "from ium_recommendations.visualization.visualize import *\n",
    "from tabulate import tabulate\n",
    "\n",
    "# fix random state for get_data reproducibility\n",
    "random_state = 10"
   ]
  },
  {
   "cell_type": "code",
   "execution_count": 2,
   "metadata": {},
   "outputs": [],
   "source": [
    "# Get data\n",
    "max_session_length = 20\n",
    "(x1, x2, y), _, max_products, max_categories = get_data(max_session_length, test_size=0, random_state=random_state)"
   ]
  },
  {
   "cell_type": "code",
   "execution_count": 3,
   "metadata": {},
   "outputs": [
    {
     "name": "stdout",
     "output_type": "stream",
     "text": [
      "INFO:tensorflow:Reloading Oracle from existing project .\\untitled_project\\oracle.json\n",
      "INFO:tensorflow:Reloading Tuner from .\\untitled_project\\tuner0.json\n"
     ]
    }
   ],
   "source": [
    "# Load model\n",
    "model = ModelCategories(max_session_length, max_products, max_categories)\n",
    "model.load('ModelCategories1')"
   ]
  },
  {
   "cell_type": "code",
   "execution_count": 28,
   "metadata": {},
   "outputs": [
    {
     "name": "stdout",
     "output_type": "stream",
     "text": [
      "  index    y_value    y_prediction\n",
      "-------  ---------  --------------\n",
      "   7076         75              75\n",
      "   7077         53              53\n",
      "   7078         44              44\n",
      "   7079         52              52\n",
      "   7080        277             277\n",
      "   7081         53              53\n",
      "   7082         53              53\n",
      "   7083        281             281\n",
      "   7084         73              73\n",
      "   7085        190             190\n",
      "   7086        157             157\n",
      "   7087         50              50\n",
      "   7088        303             303\n",
      "   7089         52              52\n",
      "   7090         52              52\n",
      "   7091        146              95\n",
      "   7092         52              52\n",
      "   7093         52              52\n",
      "   7094         52              52\n",
      "   7095         52              52\n",
      "Accuracy: 95.00%\n",
      "None\n"
     ]
    }
   ],
   "source": [
    "# Predict recommendations for random sessions\n",
    "table = []\n",
    "\n",
    "sample_size = 20\n",
    "correct_count = 0\n",
    "rand_index = numpy.random.randint(0, len(x1)-sample_size)\n",
    "for i in range(rand_index, rand_index+sample_size):\n",
    "    y_predict = model.predict(x1[i], x2[i])\n",
    "    table.append((i, y[i], y_predict))\n",
    "    if y[i] == y_predict:\n",
    "        correct_count += 1\n",
    "\n",
    "print(tabulate(table, headers=[\"index\", \"y_value\", \"y_prediction\"]))\n",
    "print(print(\"Accuracy: %.2f%%\" % (correct_count/sample_size*100)))"
   ]
  }
 ],
 "metadata": {
  "interpreter": {
   "hash": "6f39dfb8808a8310819cf956926176b089ff48c7c9bb1433022984942f11276b"
  },
  "kernelspec": {
   "display_name": "Python 3.9.9 64-bit ('.venv': venv)",
   "language": "python",
   "name": "python3"
  },
  "language_info": {
   "codemirror_mode": {
    "name": "ipython",
    "version": 3
   },
   "file_extension": ".py",
   "mimetype": "text/x-python",
   "name": "python",
   "nbconvert_exporter": "python",
   "pygments_lexer": "ipython3",
   "version": "3.9.9"
  },
  "orig_nbformat": 4
 },
 "nbformat": 4,
 "nbformat_minor": 2
}
